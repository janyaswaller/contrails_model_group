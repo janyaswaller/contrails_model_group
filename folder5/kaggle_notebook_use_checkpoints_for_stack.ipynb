{
 "cells": [
  {
   "attachments": {},
   "cell_type": "markdown",
   "id": "027dc454",
   "metadata": {
    "papermill": {
     "duration": 0.007226,
     "end_time": "2023-08-05T00:47:42.615434",
     "exception": false,
     "start_time": "2023-08-05T00:47:42.608208",
     "status": "completed"
    },
    "tags": []
   },
   "source": [
    "### General\n",
    "Based on https://www.kaggle.com/code/royalacecat/pesudo-shake-shake-up\n",
    "### Use case\n",
    "This notebook is used to load the pretrained checkpoints as datasets and execute it on Kaggle."
   ]
  },
  {
   "attachments": {},
   "cell_type": "markdown",
   "id": "2940f65b",
   "metadata": {
    "papermill": {
     "duration": 0.006174,
     "end_time": "2023-08-05T00:47:42.628238",
     "exception": false,
     "start_time": "2023-08-05T00:47:42.622064",
     "status": "completed"
    },
    "tags": []
   },
   "source": [
    "### Submission only"
   ]
  },
  {
   "cell_type": "code",
   "execution_count": 1,
   "id": "6737fc29",
   "metadata": {
    "execution": {
     "iopub.execute_input": "2023-08-05T00:47:42.655913Z",
     "iopub.status.busy": "2023-08-05T00:47:42.655464Z",
     "iopub.status.idle": "2023-08-05T00:47:46.051487Z",
     "shell.execute_reply": "2023-08-05T00:47:46.050526Z"
    },
    "papermill": {
     "duration": 3.406574,
     "end_time": "2023-08-05T00:47:46.054109",
     "exception": false,
     "start_time": "2023-08-05T00:47:42.647535",
     "status": "completed"
    },
    "tags": []
   },
   "outputs": [],
   "source": [
    "import torch\n",
    "import sys\n",
    "import gc\n",
    "import os\n",
    "import glob\n",
    "import yaml\n",
    "import pandas as pd\n",
    "import numpy as np\n",
    "import torch.nn as n\n"
   ]
  },
  {
   "cell_type": "code",
   "execution_count": 2,
   "id": "4ad41b58",
   "metadata": {
    "execution": {
     "iopub.execute_input": "2023-08-05T00:47:46.068641Z",
     "iopub.status.busy": "2023-08-05T00:47:46.068154Z",
     "iopub.status.idle": "2023-08-05T00:52:45.390056Z",
     "shell.execute_reply": "2023-08-05T00:52:45.388845Z"
    },
    "papermill": {
     "duration": 299.331822,
     "end_time": "2023-08-05T00:52:45.392625",
     "exception": false,
     "start_time": "2023-08-05T00:47:46.060803",
     "status": "completed"
    },
    "tags": []
   },
   "outputs": [
    {
     "name": "stdout",
     "output_type": "stream",
     "text": [
      "\u001b[33mWARNING: Retrying (Retry(total=4, connect=None, read=None, redirect=None, status=None)) after connection broken by 'NewConnectionError('<pip._vendor.urllib3.connection.HTTPSConnection object at 0x79f3c9e89360>: Failed to establish a new connection: [Errno -3] Temporary failure in name resolution')': /simple/lightning/\u001b[0m\u001b[33m\r\n",
      "\u001b[0m\u001b[33mWARNING: Retrying (Retry(total=3, connect=None, read=None, redirect=None, status=None)) after connection broken by 'NewConnectionError('<pip._vendor.urllib3.connection.HTTPSConnection object at 0x79f3c9e89690>: Failed to establish a new connection: [Errno -3] Temporary failure in name resolution')': /simple/lightning/\u001b[0m\u001b[33m\r\n",
      "\u001b[0m\u001b[33mWARNING: Retrying (Retry(total=2, connect=None, read=None, redirect=None, status=None)) after connection broken by 'NewConnectionError('<pip._vendor.urllib3.connection.HTTPSConnection object at 0x79f3c9e89930>: Failed to establish a new connection: [Errno -3] Temporary failure in name resolution')': /simple/lightning/\u001b[0m\u001b[33m\r\n",
      "\u001b[0m\u001b[33mWARNING: Retrying (Retry(total=1, connect=None, read=None, redirect=None, status=None)) after connection broken by 'NewConnectionError('<pip._vendor.urllib3.connection.HTTPSConnection object at 0x79f3c9e89ae0>: Failed to establish a new connection: [Errno -3] Temporary failure in name resolution')': /simple/lightning/\u001b[0m\u001b[33m\r\n",
      "\u001b[0m\u001b[33mWARNING: Retrying (Retry(total=0, connect=None, read=None, redirect=None, status=None)) after connection broken by 'NewConnectionError('<pip._vendor.urllib3.connection.HTTPSConnection object at 0x79f3c9e89c90>: Failed to establish a new connection: [Errno -3] Temporary failure in name resolution')': /simple/lightning/\u001b[0m\u001b[33m\r\n",
      "\u001b[0m\u001b[31mERROR: Could not find a version that satisfies the requirement Lightning (from versions: none)\u001b[0m\u001b[31m\r\n",
      "\u001b[0m\u001b[31mERROR: No matching distribution found for Lightning\u001b[0m\u001b[31m\r\n",
      "\u001b[0m\u001b[33mWARNING: Retrying (Retry(total=4, connect=None, read=None, redirect=None, status=None)) after connection broken by 'NewConnectionError('<pip._vendor.urllib3.connection.HTTPSConnection object at 0x7f1276cc1240>: Failed to establish a new connection: [Errno -3] Temporary failure in name resolution')': /simple/segmentation-models-pytorch/\u001b[0m\u001b[33m\r\n",
      "\u001b[0m\u001b[33mWARNING: Retrying (Retry(total=3, connect=None, read=None, redirect=None, status=None)) after connection broken by 'NewConnectionError('<pip._vendor.urllib3.connection.HTTPSConnection object at 0x7f1276cc1570>: Failed to establish a new connection: [Errno -3] Temporary failure in name resolution')': /simple/segmentation-models-pytorch/\u001b[0m\u001b[33m\r\n",
      "\u001b[0m\u001b[33mWARNING: Retrying (Retry(total=2, connect=None, read=None, redirect=None, status=None)) after connection broken by 'NewConnectionError('<pip._vendor.urllib3.connection.HTTPSConnection object at 0x7f1276cc1810>: Failed to establish a new connection: [Errno -3] Temporary failure in name resolution')': /simple/segmentation-models-pytorch/\u001b[0m\u001b[33m\r\n",
      "\u001b[0m\u001b[33mWARNING: Retrying (Retry(total=1, connect=None, read=None, redirect=None, status=None)) after connection broken by 'NewConnectionError('<pip._vendor.urllib3.connection.HTTPSConnection object at 0x7f1276cc19c0>: Failed to establish a new connection: [Errno -3] Temporary failure in name resolution')': /simple/segmentation-models-pytorch/\u001b[0m\u001b[33m\r\n",
      "\u001b[0m\u001b[33mWARNING: Retrying (Retry(total=0, connect=None, read=None, redirect=None, status=None)) after connection broken by 'NewConnectionError('<pip._vendor.urllib3.connection.HTTPSConnection object at 0x7f1276cc1b70>: Failed to establish a new connection: [Errno -3] Temporary failure in name resolution')': /simple/segmentation-models-pytorch/\u001b[0m\u001b[33m\r\n",
      "\u001b[0m\u001b[31mERROR: Could not find a version that satisfies the requirement segmentation_models_pytorch (from versions: none)\u001b[0m\u001b[31m\r\n",
      "\u001b[0m\u001b[31mERROR: No matching distribution found for segmentation_models_pytorch\u001b[0m\u001b[31m\r\n",
      "\u001b[0m"
     ]
    }
   ],
   "source": [
    "!pip install Lightning -q\n",
    "!pip install segmentation_models_pytorch -q"
   ]
  },
  {
   "cell_type": "code",
   "execution_count": 3,
   "id": "63dedf47",
   "metadata": {
    "_kg_hide-output": true,
    "execution": {
     "iopub.execute_input": "2023-08-05T00:52:45.409596Z",
     "iopub.status.busy": "2023-08-05T00:52:45.409245Z",
     "iopub.status.idle": "2023-08-05T00:52:59.022816Z",
     "shell.execute_reply": "2023-08-05T00:52:59.021806Z"
    },
    "papermill": {
     "duration": 13.624796,
     "end_time": "2023-08-05T00:52:59.025244",
     "exception": false,
     "start_time": "2023-08-05T00:52:45.400448",
     "status": "completed"
    },
    "tags": []
   },
   "outputs": [
    {
     "name": "stderr",
     "output_type": "stream",
     "text": [
      "/opt/conda/lib/python3.10/site-packages/tensorflow_io/python/ops/__init__.py:98: UserWarning: unable to load libtensorflow_io_plugins.so: unable to open file: libtensorflow_io_plugins.so, from paths: ['/opt/conda/lib/python3.10/site-packages/tensorflow_io/python/ops/libtensorflow_io_plugins.so']\n",
      "caused by: ['/opt/conda/lib/python3.10/site-packages/tensorflow_io/python/ops/libtensorflow_io_plugins.so: undefined symbol: _ZN3tsl6StatusC1EN10tensorflow5error4CodeESt17basic_string_viewIcSt11char_traitsIcEENS_14SourceLocationE']\n",
      "  warnings.warn(f\"unable to load libtensorflow_io_plugins.so: {e}\")\n",
      "/opt/conda/lib/python3.10/site-packages/tensorflow_io/python/ops/__init__.py:104: UserWarning: file system plugins are not loaded: unable to open file: libtensorflow_io.so, from paths: ['/opt/conda/lib/python3.10/site-packages/tensorflow_io/python/ops/libtensorflow_io.so']\n",
      "caused by: ['/opt/conda/lib/python3.10/site-packages/tensorflow_io/python/ops/libtensorflow_io.so: undefined symbol: _ZTVN10tensorflow13GcsFileSystemE']\n",
      "  warnings.warn(f\"file system plugins are not loaded: {e}\")\n",
      "/kaggle/working/../input/pretrained-models-pytorch/pretrainedmodels/models/dpn.py:255: SyntaxWarning: \"is\" with a literal. Did you mean \"==\"?\n",
      "  if block_type is 'proj':\n",
      "/kaggle/working/../input/pretrained-models-pytorch/pretrainedmodels/models/dpn.py:258: SyntaxWarning: \"is\" with a literal. Did you mean \"==\"?\n",
      "  elif block_type is 'down':\n",
      "/kaggle/working/../input/pretrained-models-pytorch/pretrainedmodels/models/dpn.py:262: SyntaxWarning: \"is\" with a literal. Did you mean \"==\"?\n",
      "  assert block_type is 'normal'\n"
     ]
    }
   ],
   "source": [
    "import pytorch_lightning as L\n",
    "from pytorch_lightning.callbacks import ModelCheckpoint\n",
    "import numpy as np\n",
    "import os\n",
    "import pandas as pd\n",
    "sys.path.append(\"../input/pretrained-models-pytorch\")\n",
    "sys.path.append(\"../input/efficientnet-pytorch\")\n",
    "sys.path.append(\"/kaggle/input/smp-github/segmentation_models.pytorch-master\")\n",
    "sys.path.append(\"/kaggle/input/timm-pretrained-resnest/resnest/\")\n",
    "sys.path.append(\"/kaggle/input/smp-github/segmentation_models.pytorch-master\")\n",
    "import segmentation_models_pytorch as smp\n",
    "import torchvision.transforms as T\n",
    "import torch\n",
    "import torch.nn as nn\n",
    "from torch.optim.lr_scheduler import CosineAnnealingLR, ReduceLROnPlateau\n",
    "from torch.optim import AdamW\n",
    "from torchmetrics.functional import dice\n",
    "from torch.utils.data import Dataset, DataLoader\n",
    "import warnings\n",
    "import yaml\n",
    "\n",
    "import warnings\n",
    "warnings.filterwarnings(\"ignore\")\n",
    "torch.set_float32_matmul_precision(\"medium\")"
   ]
  },
  {
   "cell_type": "code",
   "execution_count": 4,
   "id": "22706bfb",
   "metadata": {
    "_kg_hide-output": true,
    "execution": {
     "iopub.execute_input": "2023-08-05T00:52:59.041860Z",
     "iopub.status.busy": "2023-08-05T00:52:59.041540Z",
     "iopub.status.idle": "2023-08-05T00:52:59.045500Z",
     "shell.execute_reply": "2023-08-05T00:52:59.044643Z"
    },
    "papermill": {
     "duration": 0.014378,
     "end_time": "2023-08-05T00:52:59.047492",
     "exception": false,
     "start_time": "2023-08-05T00:52:59.033114",
     "status": "completed"
    },
    "tags": []
   },
   "outputs": [],
   "source": [
    "seg_models = {\n",
    "    \"Unet\": smp.Unet\n",
    "}"
   ]
  },
  {
   "cell_type": "code",
   "execution_count": 5,
   "id": "06f3893d",
   "metadata": {
    "execution": {
     "iopub.execute_input": "2023-08-05T00:52:59.063930Z",
     "iopub.status.busy": "2023-08-05T00:52:59.063656Z",
     "iopub.status.idle": "2023-08-05T00:52:59.069186Z",
     "shell.execute_reply": "2023-08-05T00:52:59.068311Z"
    },
    "papermill": {
     "duration": 0.016676,
     "end_time": "2023-08-05T00:52:59.071484",
     "exception": false,
     "start_time": "2023-08-05T00:52:59.054808",
     "status": "completed"
    },
    "tags": []
   },
   "outputs": [
    {
     "name": "stdout",
     "output_type": "stream",
     "text": [
      "Writing config_resnest101_Unet_pretrained.yaml\n"
     ]
    }
   ],
   "source": [
    "%%writefile config_resnest101_Unet_pretrained.yaml\n",
    "\n",
    "model:\n",
    "    seg_model: \"Unet\"\n",
    "    encoder_name: \"timm-resnest101e\"\n",
    "    loss_smooth: 1.0\n",
    "    image_size: 384"
   ]
  },
  {
   "cell_type": "code",
   "execution_count": 6,
   "id": "ad534fb7",
   "metadata": {
    "_kg_hide-output": true,
    "execution": {
     "iopub.execute_input": "2023-08-05T00:52:59.087912Z",
     "iopub.status.busy": "2023-08-05T00:52:59.087148Z",
     "iopub.status.idle": "2023-08-05T00:52:59.098920Z",
     "shell.execute_reply": "2023-08-05T00:52:59.098097Z"
    },
    "papermill": {
     "duration": 0.022155,
     "end_time": "2023-08-05T00:52:59.101054",
     "exception": false,
     "start_time": "2023-08-05T00:52:59.078899",
     "status": "completed"
    },
    "tags": []
   },
   "outputs": [],
   "source": [
    "with open(\"config_resnest101_Unet_pretrained.yaml\", \"r\") as file_obj:\n",
    "    config_resnest101_Unet_pretrained = yaml.safe_load(file_obj)\n",
    "\n",
    "L.seed_everything(20)\n",
    "gc.enable()"
   ]
  },
  {
   "cell_type": "code",
   "execution_count": 7,
   "id": "2251a57c",
   "metadata": {
    "execution": {
     "iopub.execute_input": "2023-08-05T00:52:59.118009Z",
     "iopub.status.busy": "2023-08-05T00:52:59.117724Z",
     "iopub.status.idle": "2023-08-05T00:52:59.131779Z",
     "shell.execute_reply": "2023-08-05T00:52:59.130948Z"
    },
    "papermill": {
     "duration": 0.024605,
     "end_time": "2023-08-05T00:52:59.133699",
     "exception": false,
     "start_time": "2023-08-05T00:52:59.109094",
     "status": "completed"
    },
    "tags": []
   },
   "outputs": [],
   "source": [
    "class ContrailsDataset(torch.utils.data.Dataset):\n",
    "    def __init__(self, df, image_size=256, train=True):\n",
    "        \n",
    "        self.df = df\n",
    "        self.trn = train\n",
    "        self.df_idx: pd.DataFrame = pd.DataFrame({'idx': os.listdir(f'/kaggle/input/google-research-identify-contrails-reduce-global-warming/test')})\n",
    "        self.normalize_image = T.Normalize((0.485, 0.456, 0.406), (0.229, 0.224, 0.225))\n",
    "        self.image_size = image_size\n",
    "        if image_size != 256:\n",
    "            self.resize_image = T.transforms.Resize(image_size)\n",
    "    \n",
    "    def read_record(self, directory):\n",
    "        record_data = {}\n",
    "        for x in [\n",
    "            \"band_11\", \n",
    "            \"band_14\", \n",
    "            \"band_15\"\n",
    "        ]:\n",
    "\n",
    "            record_data[x] = np.load(os.path.join(directory, x + \".npy\"))\n",
    "\n",
    "        return record_data\n",
    "\n",
    "    def normalize_range(self, data, bounds):\n",
    "        \"\"\"Maps data to the range [0, 1].\"\"\"\n",
    "        return (data - bounds[0]) / (bounds[1] - bounds[0])\n",
    "    \n",
    "    def get_false_color(self, record_data):\n",
    "        _T11_BOUNDS = (243, 303)\n",
    "        _CLOUD_TOP_TDIFF_BOUNDS = (-4, 5)\n",
    "        _TDIFF_BOUNDS = (-4, 2)\n",
    "        \n",
    "        N_TIMES_BEFORE = 4\n",
    "\n",
    "        r = self.normalize_range(record_data[\"band_15\"] - record_data[\"band_14\"], _TDIFF_BOUNDS)\n",
    "        g = self.normalize_range(record_data[\"band_14\"] - record_data[\"band_11\"], _CLOUD_TOP_TDIFF_BOUNDS)\n",
    "        b = self.normalize_range(record_data[\"band_14\"], _T11_BOUNDS)\n",
    "        false_color = np.clip(np.stack([r, g, b], axis=2), 0, 1)\n",
    "        img = false_color[..., N_TIMES_BEFORE]\n",
    "\n",
    "        return img\n",
    "    \n",
    "    def __getitem__(self, index):\n",
    "        row = self.df.iloc[index]\n",
    "        con_path = row.path\n",
    "        data = self.read_record(con_path)    \n",
    "        \n",
    "        img = self.get_false_color(data)\n",
    "        \n",
    "        img = torch.tensor(np.reshape(img, (256, 256, 3))).to(torch.float32).permute(2, 0, 1)\n",
    "        \n",
    "        if self.image_size != 256:\n",
    "            img = self.resize_image(img)\n",
    "        \n",
    "        img = self.normalize_image(img)\n",
    "        \n",
    "        image_id = int(self.df_idx.iloc[index]['idx'])\n",
    "            \n",
    "        return img.float(), torch.tensor(image_id)\n",
    "    \n",
    "    def __len__(self):\n",
    "        return len(self.df)"
   ]
  },
  {
   "cell_type": "code",
   "execution_count": 8,
   "id": "d53e11f0",
   "metadata": {
    "execution": {
     "iopub.execute_input": "2023-08-05T00:52:59.149934Z",
     "iopub.status.busy": "2023-08-05T00:52:59.149658Z",
     "iopub.status.idle": "2023-08-05T00:52:59.155955Z",
     "shell.execute_reply": "2023-08-05T00:52:59.155013Z"
    },
    "papermill": {
     "duration": 0.016513,
     "end_time": "2023-08-05T00:52:59.157971",
     "exception": false,
     "start_time": "2023-08-05T00:52:59.141458",
     "status": "completed"
    },
    "tags": []
   },
   "outputs": [],
   "source": [
    "#mine\n",
    "data_root_folder = '/kaggle/input/google-research-identify-contrails-reduce-global-warming'\n",
    "data_path_train = \"/kaggle/input/google-research-identify-contrails-reduce-global-warming/train/\"\n",
    "data_path_valid = \"/kaggle/input/google-research-identify-contrails-reduce-global-warming/validation/\"\n",
    "data_path_test = \"/kaggle/input/google-research-identify-contrails-reduce-global-warming/test/\"\n",
    "ckpt_path_pre = \"/kaggle/input/pretrained-models-for-5-timesteps/\"\n",
    "ckpt_path_top = \"/kaggle/input/top-model-state-dict/top_model_state_dict.pt\"\n",
    "\n",
    "\n",
    "sys.path.append(data_path_train)\n",
    "sys.path.append(data_path_valid)\n",
    "sys.path.append(data_path_test)\n",
    "sys.path.append(ckpt_path_pre)\n",
    "sys.path.append(ckpt_path_top)\n",
    "\n",
    "\n",
    "checkpoint_paths = {\n",
    "    \"-1\": ckpt_path_pre + \"model_at_timestep_mask_plus_delta_-1.ckpt\",\n",
    "    \"0\": ckpt_path_pre + \"model_at_timestep_mask_plus_delta_0.ckpt\",\n",
    "    \"1\": ckpt_path_pre + \"model_at_timestep_mask_plus_delta_1.ckpt\",\n",
    "    \"2\": ckpt_path_pre + \"model_at_timestep_mask_plus_delta_2.ckpt\",\n",
    "    \"3\": ckpt_path_pre + \"model_at_timestep_mask_plus_delta_3.ckpt\"   \n",
    "}"
   ]
  },
  {
   "cell_type": "code",
   "execution_count": 9,
   "id": "1d552b7a",
   "metadata": {
    "execution": {
     "iopub.execute_input": "2023-08-05T00:52:59.174074Z",
     "iopub.status.busy": "2023-08-05T00:52:59.173808Z",
     "iopub.status.idle": "2023-08-05T00:52:59.212116Z",
     "shell.execute_reply": "2023-08-05T00:52:59.211220Z"
    },
    "papermill": {
     "duration": 0.049378,
     "end_time": "2023-08-05T00:52:59.214999",
     "exception": false,
     "start_time": "2023-08-05T00:52:59.165621",
     "status": "completed"
    },
    "tags": []
   },
   "outputs": [],
   "source": [
    "batch_size = 32\n",
    "num_workers = 2\n",
    "THR = 0.45\n",
    "device = torch.device('cuda' if torch.cuda.is_available() else 'cpu')\n",
    "submission = pd.read_csv(os.path.join(data_root_folder, 'sample_submission.csv'), index_col='record_id')\n",
    "\n",
    "filenames = os.listdir(data_path_test)\n",
    "test_df = pd.DataFrame(filenames, columns=['record_id'])\n",
    "test_df['path'] = data_path_test + test_df['record_id'].astype(str)"
   ]
  },
  {
   "cell_type": "code",
   "execution_count": 10,
   "id": "06f02a10",
   "metadata": {
    "execution": {
     "iopub.execute_input": "2023-08-05T00:52:59.233703Z",
     "iopub.status.busy": "2023-08-05T00:52:59.233418Z",
     "iopub.status.idle": "2023-08-05T00:52:59.561862Z",
     "shell.execute_reply": "2023-08-05T00:52:59.561097Z"
    },
    "papermill": {
     "duration": 0.339195,
     "end_time": "2023-08-05T00:52:59.563798",
     "exception": false,
     "start_time": "2023-08-05T00:52:59.224603",
     "status": "completed"
    },
    "tags": []
   },
   "outputs": [],
   "source": [
    "#mine\n",
    "class ContrailsDatasetMixed(Dataset):\n",
    "    def __init__(self, split=\"test\", mode=\"single\", delta_t = 0, df = test_df):\n",
    "        self.df = df\n",
    "        self.df_idx: pd.DataFrame = pd.DataFrame({'idx': os.listdir(f'/kaggle/input/google-research-identify-contrails-reduce-global-warming/test')})\n",
    "        \n",
    "        self.delta_t = delta_t\n",
    "        self.split = split\n",
    "        self.mode = mode\n",
    "        self.path =  {\"train\" :data_path_train, \"valid\": data_path_valid, \"test\": data_path_test}[self.split]\n",
    "        self.examples = os.listdir(self.path)\n",
    "        self.normalize_image = T.Normalize((0.485, 0.456, 0.406), (0.229, 0.224, 0.225))\n",
    "    \n",
    "    def read_record(self, directory):\n",
    "        record_data = {}\n",
    "        for x in [\n",
    "            \"band_11\", \n",
    "            \"band_14\", \n",
    "            \"band_15\"\n",
    "        ]:\n",
    "            record_data[x] = np.load(os.path.join(directory, x + \".npy\")) #?\n",
    "\n",
    "        return record_data\n",
    "\n",
    "    def normalize_range(self, data, bounds):\n",
    "        \"\"\"Maps data to the range [0, 1].\"\"\"\n",
    "        return (data - bounds[0]) / (bounds[1] - bounds[0])\n",
    "    \n",
    "    def get_false_color(self, record_data):\n",
    "        _T11_BOUNDS = (243, 303)\n",
    "        _CLOUD_TOP_TDIFF_BOUNDS = (-4, 5)\n",
    "        _TDIFF_BOUNDS = (-4, 2)\n",
    "        r= self.normalize_range(record_data[\"band_15\"] - record_data[\"band_14\"], _TDIFF_BOUNDS)\n",
    "        g = self.normalize_range(record_data[\"band_14\"] - record_data[\"band_11\"], _CLOUD_TOP_TDIFF_BOUNDS)\n",
    "        b = self.normalize_range(record_data[\"band_14\"], _T11_BOUNDS)\n",
    "        false_color = np.clip(np.stack([r, g, b], axis=2), 0, 1)\n",
    "        if self.mode == \"single\":\n",
    "            t_null = 4\n",
    "            return false_color[..., t_null+self.delta_t]\n",
    "        else:\n",
    "            return false_color\n",
    "    \n",
    "    def __getitem__(self, index):\n",
    "        row = self.df.iloc[index]\n",
    "        con_path = row.path\n",
    "        data = self.read_record(con_path)  \n",
    "        img = self.get_false_color(data)\n",
    "        \n",
    "\n",
    "        if self.mode == \"single\":\n",
    "            img = torch.tensor(np.reshape(img, (256, 256, 3, -1))).to(torch.float32).permute(3, 2, 0, 1).squeeze()\n",
    "        else:\n",
    "            img = torch.tensor(np.reshape(img, (256, 256, 3, -1))).to(torch.float32).permute(3, 2, 0, 1)\n",
    "\n",
    "        img = self.normalize_image(img)\n",
    "        image_id = int(self.df_idx.iloc[index]['idx'])\n",
    "\n",
    "\n",
    "        if self.split in [\"train\", \"validation\"]:\n",
    "            label = np.load(os.path.join(con_path, \"human_pixel_masks.npy\")).squeeze()\n",
    "            label = torch.Tensor(label).to(torch.int64)\n",
    "            return img.float(), label.float()\n",
    "\n",
    "        return img.float(), torch.tensor(image_id)\n",
    "    \n",
    "    def __len__(self):\n",
    "        return len(self.examples)"
   ]
  },
  {
   "cell_type": "code",
   "execution_count": 11,
   "id": "cd1e5c26",
   "metadata": {
    "execution": {
     "iopub.execute_input": "2023-08-05T00:52:59.581292Z",
     "iopub.status.busy": "2023-08-05T00:52:59.580984Z",
     "iopub.status.idle": "2023-08-05T00:52:59.587743Z",
     "shell.execute_reply": "2023-08-05T00:52:59.586842Z"
    },
    "papermill": {
     "duration": 0.017247,
     "end_time": "2023-08-05T00:52:59.589494",
     "exception": false,
     "start_time": "2023-08-05T00:52:59.572247",
     "status": "completed"
    },
    "tags": []
   },
   "outputs": [],
   "source": [
    "def rle_encode(x, fg_val=1):\n",
    "    \"\"\"\n",
    "    Args:\n",
    "        x:  numpy array of shape (height, width), 1 - mask, 0 - background\n",
    "    Returns: run length encoding as list\n",
    "    \"\"\"\n",
    "\n",
    "    dots = np.where(\n",
    "        x.T.flatten() == fg_val)[0]  # .T sets Fortran order down-then-right\n",
    "    run_lengths = []\n",
    "    prev = -2\n",
    "    for b in dots:\n",
    "        if b > prev + 1:\n",
    "            run_lengths.extend((b + 1, 0))\n",
    "        run_lengths[-1] += 1\n",
    "        prev = b\n",
    "    return run_lengths\n",
    "\n",
    "def list_to_string(x):\n",
    "    \"\"\"\n",
    "    Converts list to a string representation\n",
    "    Empty list returns '-'\n",
    "    \"\"\"\n",
    "    if x: # non-empty list\n",
    "        s = str(x).replace(\"[\", \"\").replace(\"]\", \"\").replace(\",\", \"\")\n",
    "    else:\n",
    "        s = '-'\n",
    "    return s"
   ]
  },
  {
   "cell_type": "code",
   "execution_count": 12,
   "id": "bfcc6d7a",
   "metadata": {
    "execution": {
     "iopub.execute_input": "2023-08-05T00:52:59.620932Z",
     "iopub.status.busy": "2023-08-05T00:52:59.620135Z",
     "iopub.status.idle": "2023-08-05T00:52:59.626686Z",
     "shell.execute_reply": "2023-08-05T00:52:59.625708Z"
    },
    "papermill": {
     "duration": 0.016938,
     "end_time": "2023-08-05T00:52:59.628730",
     "exception": false,
     "start_time": "2023-08-05T00:52:59.611792",
     "status": "completed"
    },
    "tags": []
   },
   "outputs": [],
   "source": [
    "#mine\n",
    "class LightningModule_pre(L.LightningModule):\n",
    "    def __init__(self):\n",
    "        super().__init__()\n",
    "        config = config_resnest101_Unet_pretrained[\"model\"] #passing config as parameter produces error when loading checkpoints, even from already initialized model\n",
    "        self.config = config\n",
    "        self.model = model = seg_models[config[\"seg_model\"]](\n",
    "            encoder_name=config[\"encoder_name\"],\n",
    "            encoder_weights=None,\n",
    "            in_channels=3,\n",
    "            classes=1,\n",
    "            activation=None,\n",
    "        )\n",
    "\n",
    "    def forward(self, batch):\n",
    "        imgs = batch\n",
    "        preds = self.model(imgs)\n",
    "        return preds"
   ]
  },
  {
   "cell_type": "code",
   "execution_count": 13,
   "id": "496a8137",
   "metadata": {
    "execution": {
     "iopub.execute_input": "2023-08-05T00:52:59.645005Z",
     "iopub.status.busy": "2023-08-05T00:52:59.644695Z",
     "iopub.status.idle": "2023-08-05T00:52:59.650873Z",
     "shell.execute_reply": "2023-08-05T00:52:59.649931Z"
    },
    "papermill": {
     "duration": 0.016527,
     "end_time": "2023-08-05T00:52:59.652897",
     "exception": false,
     "start_time": "2023-08-05T00:52:59.636370",
     "status": "completed"
    },
    "tags": []
   },
   "outputs": [],
   "source": [
    "#mine\n",
    "class LightningModule_top(L.LightningModule):\n",
    "    \n",
    "    def __init__(self):\n",
    "        super().__init__()\n",
    "        config = config_resnest101_Unet_pretrained[\"model\"] #passing config as parameter produces error when loading checkpoints, even from already initialized model\n",
    "        self.config = config\n",
    "        self.model = model = seg_models[config[\"seg_model\"]](\n",
    "            encoder_name=config[\"encoder_name\"],\n",
    "            encoder_weights=None,\n",
    "            in_channels=5,\n",
    "            classes=1,\n",
    "            activation=None,\n",
    "        )\n",
    "\n",
    "    def forward(self, batch):\n",
    "        imgs = batch\n",
    "        preds = self.model(imgs)\n",
    "        return preds"
   ]
  },
  {
   "cell_type": "code",
   "execution_count": 14,
   "id": "a86bfab6",
   "metadata": {
    "execution": {
     "iopub.execute_input": "2023-08-05T00:52:59.669117Z",
     "iopub.status.busy": "2023-08-05T00:52:59.668637Z",
     "iopub.status.idle": "2023-08-05T00:52:59.672654Z",
     "shell.execute_reply": "2023-08-05T00:52:59.671668Z"
    },
    "papermill": {
     "duration": 0.014646,
     "end_time": "2023-08-05T00:52:59.674937",
     "exception": false,
     "start_time": "2023-08-05T00:52:59.660291",
     "status": "completed"
    },
    "tags": []
   },
   "outputs": [],
   "source": [
    "#mine\n",
    "# test_ds = ContrailsDatasetMixed(split=\"test\", mode=\"multi\")\n",
    " \n",
    "# test_dl = DataLoader(test_ds, batch_size=batch_size, num_workers = num_workers)"
   ]
  },
  {
   "cell_type": "code",
   "execution_count": 15,
   "id": "54b17f49",
   "metadata": {
    "execution": {
     "iopub.execute_input": "2023-08-05T00:52:59.690874Z",
     "iopub.status.busy": "2023-08-05T00:52:59.690581Z",
     "iopub.status.idle": "2023-08-05T00:52:59.695431Z",
     "shell.execute_reply": "2023-08-05T00:52:59.694524Z"
    },
    "papermill": {
     "duration": 0.01505,
     "end_time": "2023-08-05T00:52:59.697384",
     "exception": false,
     "start_time": "2023-08-05T00:52:59.682334",
     "status": "completed"
    },
    "tags": []
   },
   "outputs": [],
   "source": [
    "# test_ds = ContrailsDataset(\n",
    "#         test_df,\n",
    "#         config[\"model\"][\"image_size\"],\n",
    "#         train = False\n",
    "#     )\n",
    " \n",
    "# test_dl = DataLoader(test_ds, batch_size=batch_size, num_workers = num_workers)"
   ]
  },
  {
   "cell_type": "code",
   "execution_count": 16,
   "id": "cc3666cf",
   "metadata": {
    "execution": {
     "iopub.execute_input": "2023-08-05T00:52:59.713634Z",
     "iopub.status.busy": "2023-08-05T00:52:59.712908Z",
     "iopub.status.idle": "2023-08-05T00:52:59.720520Z",
     "shell.execute_reply": "2023-08-05T00:52:59.719533Z"
    },
    "papermill": {
     "duration": 0.017768,
     "end_time": "2023-08-05T00:52:59.722558",
     "exception": false,
     "start_time": "2023-08-05T00:52:59.704790",
     "status": "completed"
    },
    "tags": []
   },
   "outputs": [
    {
     "data": {
      "text/plain": [
       "{'-1': '/kaggle/input/pretrained-models-for-5-timesteps/model_at_timestep_mask_plus_delta_-1.ckpt',\n",
       " '0': '/kaggle/input/pretrained-models-for-5-timesteps/model_at_timestep_mask_plus_delta_0.ckpt',\n",
       " '1': '/kaggle/input/pretrained-models-for-5-timesteps/model_at_timestep_mask_plus_delta_1.ckpt',\n",
       " '2': '/kaggle/input/pretrained-models-for-5-timesteps/model_at_timestep_mask_plus_delta_2.ckpt',\n",
       " '3': '/kaggle/input/pretrained-models-for-5-timesteps/model_at_timestep_mask_plus_delta_3.ckpt'}"
      ]
     },
     "execution_count": 16,
     "metadata": {},
     "output_type": "execute_result"
    }
   ],
   "source": [
    "checkpoint_paths"
   ]
  },
  {
   "cell_type": "code",
   "execution_count": 17,
   "id": "0ce959ae",
   "metadata": {
    "execution": {
     "iopub.execute_input": "2023-08-05T00:52:59.739168Z",
     "iopub.status.busy": "2023-08-05T00:52:59.738440Z",
     "iopub.status.idle": "2023-08-05T00:53:36.882815Z",
     "shell.execute_reply": "2023-08-05T00:53:36.881685Z"
    },
    "papermill": {
     "duration": 37.155515,
     "end_time": "2023-08-05T00:53:36.885555",
     "exception": false,
     "start_time": "2023-08-05T00:52:59.730040",
     "status": "completed"
    },
    "tags": []
   },
   "outputs": [],
   "source": [
    "#-----------------------------------------------mine-----------------------------------------------\n",
    "config = config_resnest101_Unet_pretrained\n",
    "\n",
    "gc.enable()\n",
    "\n",
    "all_preds = {}\n",
    "\n",
    "for k in checkpoint_paths:\n",
    "    v = checkpoint_paths[k]\n",
    "    test_ds = ContrailsDatasetMixed(split=\"test\", mode=\"single\", delta_t = int(k), df = test_df)\n",
    "    test_dl = DataLoader(test_ds, batch_size=batch_size, num_workers = num_workers)\n",
    "    model = LightningModule_pre().load_from_checkpoint(str(v))\n",
    "    model.to(device)\n",
    "    model.eval()\n",
    "\n",
    "    model_preds = {}\n",
    "    \n",
    "    for _, data in enumerate(test_dl):\n",
    "        images, image_id = data\n",
    "    \n",
    "        images = images.to(device)\n",
    "        \n",
    "        with torch.no_grad():\n",
    "            predicted_mask = model(images[:, :, :, :])\n",
    "        if config[\"model\"][\"image_size\"] != 256:\n",
    "            predicted_mask = torch.nn.functional.interpolate(predicted_mask, size=256, mode='bilinear')\n",
    "                \n",
    "        for img_num in range(0, images.shape[0]):\n",
    "            current_mask = predicted_mask[img_num, :, :, :]\n",
    "            current_image_id = image_id[img_num].item()\n",
    "            model_preds[current_image_id] = current_mask\n",
    "    all_preds[f\"{k}\"] = model_preds\n",
    "    \n",
    "    del model    \n",
    "    torch.cuda.empty_cache()\n",
    "    gc.collect() "
   ]
  },
  {
   "cell_type": "code",
   "execution_count": 18,
   "id": "3fa6cba9",
   "metadata": {
    "execution": {
     "iopub.execute_input": "2023-08-05T00:53:36.903249Z",
     "iopub.status.busy": "2023-08-05T00:53:36.902927Z",
     "iopub.status.idle": "2023-08-05T00:53:41.367737Z",
     "shell.execute_reply": "2023-08-05T00:53:41.366777Z"
    },
    "papermill": {
     "duration": 4.47685,
     "end_time": "2023-08-05T00:53:41.370378",
     "exception": false,
     "start_time": "2023-08-05T00:53:36.893528",
     "status": "completed"
    },
    "tags": []
   },
   "outputs": [
    {
     "data": {
      "text/plain": [
       "8"
      ]
     },
     "execution_count": 18,
     "metadata": {},
     "output_type": "execute_result"
    }
   ],
   "source": [
    "#-----------------------------------------------mine-----------------------------------------------\n",
    "\n",
    "top_model = LightningModule_top()\n",
    "top_model.load_state_dict(torch.load(ckpt_path_top)[\"model_state_dict\"])\n",
    "top_model.to(device)\n",
    "top_model.eval()\n",
    "\n",
    "top_model_mask = {}\n",
    "\n",
    "for index in submission.index.tolist():\n",
    "    masks = []\n",
    "    for pre_model in all_preds.keys():\n",
    "        pred_mask = all_preds[pre_model][index]\n",
    "        masks.append(pred_mask)\n",
    "    combined_masks = torch.stack(masks, dim = 1).to(device) #dim 0 is batch #todo:make dataset of outputs\n",
    "    top_model_mask = top_model.forward(combined_masks).squeeze()\n",
    "    top_model_mask = torch.sigmoid(top_model_mask).cpu().detach().numpy()\n",
    "    predicted_mask_with_threshold = np.zeros((256, 256))\n",
    "    predicted_mask_with_threshold[top_model_mask[ :, :] < 0.45] = 0\n",
    "    predicted_mask_with_threshold[top_model_mask[ :, :] > 0.45] = 1\n",
    "    submission.loc[int(index), 'encoded_pixels'] = list_to_string(rle_encode(predicted_mask_with_threshold))\n",
    "    \n",
    "    \n",
    "del top_model    \n",
    "torch.cuda.empty_cache()\n",
    "gc.collect() "
   ]
  },
  {
   "cell_type": "code",
   "execution_count": 19,
   "id": "ed2ab665",
   "metadata": {
    "execution": {
     "iopub.execute_input": "2023-08-05T00:53:41.387915Z",
     "iopub.status.busy": "2023-08-05T00:53:41.387540Z",
     "iopub.status.idle": "2023-08-05T00:53:41.395336Z",
     "shell.execute_reply": "2023-08-05T00:53:41.394503Z"
    },
    "papermill": {
     "duration": 0.018916,
     "end_time": "2023-08-05T00:53:41.397497",
     "exception": false,
     "start_time": "2023-08-05T00:53:41.378581",
     "status": "completed"
    },
    "tags": []
   },
   "outputs": [],
   "source": [
    "submission.to_csv('submission.csv')"
   ]
  },
  {
   "cell_type": "code",
   "execution_count": null,
   "id": "2d79548a",
   "metadata": {
    "papermill": {
     "duration": 0.007581,
     "end_time": "2023-08-05T00:53:41.412825",
     "exception": false,
     "start_time": "2023-08-05T00:53:41.405244",
     "status": "completed"
    },
    "tags": []
   },
   "outputs": [],
   "source": []
  }
 ],
 "metadata": {
  "kernelspec": {
   "display_name": "Python 3",
   "language": "python",
   "name": "python3"
  },
  "language_info": {
   "codemirror_mode": {
    "name": "ipython",
    "version": 3
   },
   "file_extension": ".py",
   "mimetype": "text/x-python",
   "name": "python",
   "nbconvert_exporter": "python",
   "pygments_lexer": "ipython3",
   "version": "3.10.10"
  },
  "papermill": {
   "default_parameters": {},
   "duration": 372.888524,
   "end_time": "2023-08-05T00:53:44.816034",
   "environment_variables": {},
   "exception": null,
   "input_path": "__notebook__.ipynb",
   "output_path": "__notebook__.ipynb",
   "parameters": {},
   "start_time": "2023-08-05T00:47:31.927510",
   "version": "2.4.0"
  }
 },
 "nbformat": 4,
 "nbformat_minor": 5
}
